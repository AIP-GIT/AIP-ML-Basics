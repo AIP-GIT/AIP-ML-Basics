{
  "nbformat": 4,
  "nbformat_minor": 0,
  "metadata": {
    "colab": {
      "name": "Cal_housing.ipynb",
      "provenance": [],
      "toc_visible": true
    },
    "kernelspec": {
      "name": "python3",
      "display_name": "Python 3"
    }
  },
  "cells": [
    {
      "cell_type": "code",
      "metadata": {
        "id": "s_Phj7Zx1aOO"
      },
      "source": [
        "import pandas as pd\r\n",
        "import numpy as np\r\n",
        "import matplotlib as mpl\r\n",
        "import matplotlib.pyplot as plt"
      ],
      "execution_count": 9,
      "outputs": []
    },
    {
      "cell_type": "code",
      "metadata": {
        "id": "Pf4FDLid1jtT"
      },
      "source": [
        "housing = pd.read_csv('/content/drive/MyDrive/Housing.csv')"
      ],
      "execution_count": 12,
      "outputs": []
    },
    {
      "cell_type": "code",
      "metadata": {
        "colab": {
          "base_uri": "https://localhost:8080/"
        },
        "id": "MV-uAqAQ3uuu",
        "outputId": "9cd7564d-f676-478d-ff95-712ed068a148"
      },
      "source": [
        "housing.columns"
      ],
      "execution_count": 13,
      "outputs": [
        {
          "output_type": "execute_result",
          "data": {
            "text/plain": [
              "Index(['longitude', 'latitude', 'housing_median_age', 'total_rooms',\n",
              "       'total_bedrooms', 'population', 'households', 'median_income',\n",
              "       'median_house_value', 'ocean_proximity'],\n",
              "      dtype='object')"
            ]
          },
          "metadata": {
            "tags": []
          },
          "execution_count": 13
        }
      ]
    },
    {
      "cell_type": "code",
      "metadata": {
        "colab": {
          "base_uri": "https://localhost:8080/",
          "height": 439
        },
        "id": "DHiuaIdL4T_N",
        "outputId": "b8975f16-2795-4b97-c03e-f1db3ffab811"
      },
      "source": [
        "housing[housing[\"total_rooms\"]>1.5*abs(1447-3148)]"
      ],
      "execution_count": 14,
      "outputs": [
        {
          "output_type": "execute_result",
          "data": {
            "text/html": [
              "<div>\n",
              "<style scoped>\n",
              "    .dataframe tbody tr th:only-of-type {\n",
              "        vertical-align: middle;\n",
              "    }\n",
              "\n",
              "    .dataframe tbody tr th {\n",
              "        vertical-align: top;\n",
              "    }\n",
              "\n",
              "    .dataframe thead th {\n",
              "        text-align: right;\n",
              "    }\n",
              "</style>\n",
              "<table border=\"1\" class=\"dataframe\">\n",
              "  <thead>\n",
              "    <tr style=\"text-align: right;\">\n",
              "      <th></th>\n",
              "      <th>longitude</th>\n",
              "      <th>latitude</th>\n",
              "      <th>housing_median_age</th>\n",
              "      <th>total_rooms</th>\n",
              "      <th>total_bedrooms</th>\n",
              "      <th>population</th>\n",
              "      <th>households</th>\n",
              "      <th>median_income</th>\n",
              "      <th>median_house_value</th>\n",
              "      <th>ocean_proximity</th>\n",
              "    </tr>\n",
              "  </thead>\n",
              "  <tbody>\n",
              "    <tr>\n",
              "      <th>1</th>\n",
              "      <td>-122.22</td>\n",
              "      <td>37.86</td>\n",
              "      <td>21.0</td>\n",
              "      <td>7099.0</td>\n",
              "      <td>1106.0</td>\n",
              "      <td>2401.0</td>\n",
              "      <td>1138.0</td>\n",
              "      <td>8.3014</td>\n",
              "      <td>358500.0</td>\n",
              "      <td>NEAR BAY</td>\n",
              "    </tr>\n",
              "    <tr>\n",
              "      <th>7</th>\n",
              "      <td>-122.25</td>\n",
              "      <td>37.84</td>\n",
              "      <td>52.0</td>\n",
              "      <td>3104.0</td>\n",
              "      <td>687.0</td>\n",
              "      <td>1157.0</td>\n",
              "      <td>647.0</td>\n",
              "      <td>3.1200</td>\n",
              "      <td>241400.0</td>\n",
              "      <td>NEAR BAY</td>\n",
              "    </tr>\n",
              "    <tr>\n",
              "      <th>8</th>\n",
              "      <td>-122.26</td>\n",
              "      <td>37.84</td>\n",
              "      <td>42.0</td>\n",
              "      <td>2555.0</td>\n",
              "      <td>665.0</td>\n",
              "      <td>1206.0</td>\n",
              "      <td>595.0</td>\n",
              "      <td>2.0804</td>\n",
              "      <td>226700.0</td>\n",
              "      <td>NEAR BAY</td>\n",
              "    </tr>\n",
              "    <tr>\n",
              "      <th>9</th>\n",
              "      <td>-122.25</td>\n",
              "      <td>37.84</td>\n",
              "      <td>52.0</td>\n",
              "      <td>3549.0</td>\n",
              "      <td>707.0</td>\n",
              "      <td>1551.0</td>\n",
              "      <td>714.0</td>\n",
              "      <td>3.6912</td>\n",
              "      <td>261100.0</td>\n",
              "      <td>NEAR BAY</td>\n",
              "    </tr>\n",
              "    <tr>\n",
              "      <th>11</th>\n",
              "      <td>-122.26</td>\n",
              "      <td>37.85</td>\n",
              "      <td>52.0</td>\n",
              "      <td>3503.0</td>\n",
              "      <td>752.0</td>\n",
              "      <td>1504.0</td>\n",
              "      <td>734.0</td>\n",
              "      <td>3.2705</td>\n",
              "      <td>241800.0</td>\n",
              "      <td>NEAR BAY</td>\n",
              "    </tr>\n",
              "    <tr>\n",
              "      <th>...</th>\n",
              "      <td>...</td>\n",
              "      <td>...</td>\n",
              "      <td>...</td>\n",
              "      <td>...</td>\n",
              "      <td>...</td>\n",
              "      <td>...</td>\n",
              "      <td>...</td>\n",
              "      <td>...</td>\n",
              "      <td>...</td>\n",
              "      <td>...</td>\n",
              "    </tr>\n",
              "    <tr>\n",
              "      <th>20606</th>\n",
              "      <td>-121.57</td>\n",
              "      <td>39.12</td>\n",
              "      <td>30.0</td>\n",
              "      <td>2601.0</td>\n",
              "      <td>534.0</td>\n",
              "      <td>1702.0</td>\n",
              "      <td>506.0</td>\n",
              "      <td>2.0800</td>\n",
              "      <td>56600.0</td>\n",
              "      <td>INLAND</td>\n",
              "    </tr>\n",
              "    <tr>\n",
              "      <th>20629</th>\n",
              "      <td>-121.39</td>\n",
              "      <td>39.12</td>\n",
              "      <td>28.0</td>\n",
              "      <td>10035.0</td>\n",
              "      <td>1856.0</td>\n",
              "      <td>6912.0</td>\n",
              "      <td>1818.0</td>\n",
              "      <td>2.0943</td>\n",
              "      <td>108300.0</td>\n",
              "      <td>INLAND</td>\n",
              "    </tr>\n",
              "    <tr>\n",
              "      <th>20630</th>\n",
              "      <td>-121.32</td>\n",
              "      <td>39.29</td>\n",
              "      <td>11.0</td>\n",
              "      <td>2640.0</td>\n",
              "      <td>505.0</td>\n",
              "      <td>1257.0</td>\n",
              "      <td>445.0</td>\n",
              "      <td>3.5673</td>\n",
              "      <td>112000.0</td>\n",
              "      <td>INLAND</td>\n",
              "    </tr>\n",
              "    <tr>\n",
              "      <th>20631</th>\n",
              "      <td>-121.40</td>\n",
              "      <td>39.33</td>\n",
              "      <td>15.0</td>\n",
              "      <td>2655.0</td>\n",
              "      <td>493.0</td>\n",
              "      <td>1200.0</td>\n",
              "      <td>432.0</td>\n",
              "      <td>3.5179</td>\n",
              "      <td>107200.0</td>\n",
              "      <td>INLAND</td>\n",
              "    </tr>\n",
              "    <tr>\n",
              "      <th>20639</th>\n",
              "      <td>-121.24</td>\n",
              "      <td>39.37</td>\n",
              "      <td>16.0</td>\n",
              "      <td>2785.0</td>\n",
              "      <td>616.0</td>\n",
              "      <td>1387.0</td>\n",
              "      <td>530.0</td>\n",
              "      <td>2.3886</td>\n",
              "      <td>89400.0</td>\n",
              "      <td>INLAND</td>\n",
              "    </tr>\n",
              "  </tbody>\n",
              "</table>\n",
              "<p>7767 rows × 10 columns</p>\n",
              "</div>"
            ],
            "text/plain": [
              "       longitude  latitude  ...  median_house_value  ocean_proximity\n",
              "1        -122.22     37.86  ...            358500.0         NEAR BAY\n",
              "7        -122.25     37.84  ...            241400.0         NEAR BAY\n",
              "8        -122.26     37.84  ...            226700.0         NEAR BAY\n",
              "9        -122.25     37.84  ...            261100.0         NEAR BAY\n",
              "11       -122.26     37.85  ...            241800.0         NEAR BAY\n",
              "...          ...       ...  ...                 ...              ...\n",
              "20606    -121.57     39.12  ...             56600.0           INLAND\n",
              "20629    -121.39     39.12  ...            108300.0           INLAND\n",
              "20630    -121.32     39.29  ...            112000.0           INLAND\n",
              "20631    -121.40     39.33  ...            107200.0           INLAND\n",
              "20639    -121.24     39.37  ...             89400.0           INLAND\n",
              "\n",
              "[7767 rows x 10 columns]"
            ]
          },
          "metadata": {
            "tags": []
          },
          "execution_count": 14
        }
      ]
    },
    {
      "cell_type": "code",
      "metadata": {
        "id": "P911kct44XUf"
      },
      "source": [
        "X = housing.drop(['median_house_value','ocean_proximity'],axis=1)"
      ],
      "execution_count": 15,
      "outputs": []
    },
    {
      "cell_type": "code",
      "metadata": {
        "colab": {
          "base_uri": "https://localhost:8080/"
        },
        "id": "wFUOA5Hy4dvO",
        "outputId": "ea335942-e2c7-4df5-9fd0-a585b9740e4f"
      },
      "source": [
        "X.columns"
      ],
      "execution_count": 17,
      "outputs": [
        {
          "output_type": "execute_result",
          "data": {
            "text/plain": [
              "Index(['longitude', 'latitude', 'housing_median_age', 'total_rooms',\n",
              "       'total_bedrooms', 'population', 'households', 'median_income'],\n",
              "      dtype='object')"
            ]
          },
          "metadata": {
            "tags": []
          },
          "execution_count": 17
        }
      ]
    },
    {
      "cell_type": "code",
      "metadata": {
        "id": "ZeZTP8hJ4hXZ"
      },
      "source": [
        "X = housing[['housing_median_age', 'total_rooms',\r\n",
        "       'total_bedrooms', 'population', 'households', 'median_income']].copy()"
      ],
      "execution_count": 18,
      "outputs": []
    },
    {
      "cell_type": "code",
      "metadata": {
        "id": "oUWrY2D44npt"
      },
      "source": [
        "X = X.dropna(axis=1)"
      ],
      "execution_count": 19,
      "outputs": []
    },
    {
      "cell_type": "code",
      "metadata": {
        "id": "1XcnTUZo4r9z"
      },
      "source": [
        "y=housing['median_house_value'].copy()"
      ],
      "execution_count": 20,
      "outputs": []
    },
    {
      "cell_type": "code",
      "metadata": {
        "colab": {
          "base_uri": "https://localhost:8080/"
        },
        "id": "4lONeJVm4y0C",
        "outputId": "d0b32a25-b142-4134-8e66-b7b15896ff09"
      },
      "source": [
        "y.head(2)"
      ],
      "execution_count": 21,
      "outputs": [
        {
          "output_type": "execute_result",
          "data": {
            "text/plain": [
              "0    452600.0\n",
              "1    358500.0\n",
              "Name: median_house_value, dtype: float64"
            ]
          },
          "metadata": {
            "tags": []
          },
          "execution_count": 21
        }
      ]
    },
    {
      "cell_type": "code",
      "metadata": {
        "id": "i_2ULIA_428Y"
      },
      "source": [
        "from sklearn.model_selection import train_test_split\r\n",
        "X_train,X_test,y_train,y_test = train_test_split(X,y,test_size=0.2,random_state=42)"
      ],
      "execution_count": 22,
      "outputs": []
    },
    {
      "cell_type": "markdown",
      "metadata": {
        "id": "LScVrl_j5HsG"
      },
      "source": [
        "# Linear Regression"
      ]
    },
    {
      "cell_type": "code",
      "metadata": {
        "colab": {
          "base_uri": "https://localhost:8080/"
        },
        "id": "pvjA_3CE5LiP",
        "outputId": "bbde5e31-61dd-4564-d36b-5ba67884dc72"
      },
      "source": [
        "from sklearn.linear_model import LinearRegression\r\n",
        "lin_reg = LinearRegression()\r\n",
        "lin_reg.fit(X_train,y_train)"
      ],
      "execution_count": 23,
      "outputs": [
        {
          "output_type": "execute_result",
          "data": {
            "text/plain": [
              "LinearRegression(copy_X=True, fit_intercept=True, n_jobs=None, normalize=False)"
            ]
          },
          "metadata": {
            "tags": []
          },
          "execution_count": 23
        }
      ]
    },
    {
      "cell_type": "code",
      "metadata": {
        "colab": {
          "base_uri": "https://localhost:8080/"
        },
        "id": "PfciARaQ5P8D",
        "outputId": "411c84c7-8c0a-4f04-b37a-e016db558fcb"
      },
      "source": [
        "from sklearn.metrics import mean_squared_error\r\n",
        "lin_reg_pred=lin_reg.predict(X_train)\r\n",
        "lin_reg_mse = mean_squared_error(y_train,lin_reg_pred)\r\n",
        "lin_reg_mse"
      ],
      "execution_count": 24,
      "outputs": [
        {
          "output_type": "execute_result",
          "data": {
            "text/plain": [
              "5798038784.98622"
            ]
          },
          "metadata": {
            "tags": []
          },
          "execution_count": 24
        }
      ]
    },
    {
      "cell_type": "markdown",
      "metadata": {
        "id": "-trNcup4dfaJ"
      },
      "source": [
        "**Underfitting**"
      ]
    },
    {
      "cell_type": "code",
      "metadata": {
        "colab": {
          "base_uri": "https://localhost:8080/"
        },
        "id": "oIipRGCJ5VAd",
        "outputId": "28d83420-7c57-4ece-889f-5054b40be048"
      },
      "source": [
        "lin_reg_pred=lin_reg.predict(X_test)\r\n",
        "lin_reg_mse = mean_squared_error(y_test,lin_reg_pred)\r\n",
        "lin_reg_mse"
      ],
      "execution_count": 25,
      "outputs": [
        {
          "output_type": "execute_result",
          "data": {
            "text/plain": [
              "5909928044.702561"
            ]
          },
          "metadata": {
            "tags": []
          },
          "execution_count": 25
        }
      ]
    },
    {
      "cell_type": "markdown",
      "metadata": {
        "id": "W9fxL04T5YD3"
      },
      "source": [
        "# Decision Tree"
      ]
    },
    {
      "cell_type": "code",
      "metadata": {
        "colab": {
          "base_uri": "https://localhost:8080/"
        },
        "id": "e3m9utNF5gXF",
        "outputId": "baaac0b4-f707-427b-b30d-5195e1acc459"
      },
      "source": [
        "from sklearn.tree import DecisionTreeRegressor\r\n",
        "tree_reg = DecisionTreeRegressor()\r\n",
        "tree_reg.fit(X_train,y_train)"
      ],
      "execution_count": 26,
      "outputs": [
        {
          "output_type": "execute_result",
          "data": {
            "text/plain": [
              "DecisionTreeRegressor(ccp_alpha=0.0, criterion='mse', max_depth=None,\n",
              "                      max_features=None, max_leaf_nodes=None,\n",
              "                      min_impurity_decrease=0.0, min_impurity_split=None,\n",
              "                      min_samples_leaf=1, min_samples_split=2,\n",
              "                      min_weight_fraction_leaf=0.0, presort='deprecated',\n",
              "                      random_state=None, splitter='best')"
            ]
          },
          "metadata": {
            "tags": []
          },
          "execution_count": 26
        }
      ]
    },
    {
      "cell_type": "code",
      "metadata": {
        "colab": {
          "base_uri": "https://localhost:8080/"
        },
        "id": "5LMJQOeU5j4E",
        "outputId": "2888e1ce-84a7-48c6-849e-88abd1013009"
      },
      "source": [
        "from sklearn.metrics import mean_squared_error\r\n",
        "Tree_reg_pred=tree_reg.predict(X_train)\r\n",
        "Tree_reg_mse = mean_squared_error(y_train,Tree_reg_pred)\r\n",
        "Tree_reg_mse"
      ],
      "execution_count": 27,
      "outputs": [
        {
          "output_type": "execute_result",
          "data": {
            "text/plain": [
              "0.0"
            ]
          },
          "metadata": {
            "tags": []
          },
          "execution_count": 27
        }
      ]
    },
    {
      "cell_type": "markdown",
      "metadata": {
        "id": "v-UuT32MchfH"
      },
      "source": [
        "**Overfitting**"
      ]
    },
    {
      "cell_type": "code",
      "metadata": {
        "colab": {
          "base_uri": "https://localhost:8080/"
        },
        "id": "P5qpvyXZ5oql",
        "outputId": "42cac08b-bfc8-4f88-cf4b-e9440d85b8b9"
      },
      "source": [
        "Tree_reg_pred=tree_reg.predict(X_test)\r\n",
        "Tree_reg_mse = mean_squared_error(y_test,Tree_reg_pred)\r\n",
        "Tree_reg_mse"
      ],
      "execution_count": 28,
      "outputs": [
        {
          "output_type": "execute_result",
          "data": {
            "text/plain": [
              "8966634211.146318"
            ]
          },
          "metadata": {
            "tags": []
          },
          "execution_count": 28
        }
      ]
    },
    {
      "cell_type": "markdown",
      "metadata": {
        "id": "KhZUiCfbeIU6"
      },
      "source": [
        "# RandomForestRegression"
      ]
    },
    {
      "cell_type": "code",
      "metadata": {
        "id": "acQ8ZPvG7Fno",
        "colab": {
          "base_uri": "https://localhost:8080/"
        },
        "outputId": "782f9e80-d673-4d75-a981-e98ce8418a4c"
      },
      "source": [
        "from sklearn.ensemble import RandomForestRegressor\r\n",
        "from sklearn.datasets import make_regression\r\n",
        "regr = RandomForestRegressor()\r\n",
        "regr.fit(X_train, y_train)"
      ],
      "execution_count": 40,
      "outputs": [
        {
          "output_type": "execute_result",
          "data": {
            "text/plain": [
              "RandomForestRegressor(bootstrap=True, ccp_alpha=0.0, criterion='mse',\n",
              "                      max_depth=None, max_features='auto', max_leaf_nodes=None,\n",
              "                      max_samples=None, min_impurity_decrease=0.0,\n",
              "                      min_impurity_split=None, min_samples_leaf=1,\n",
              "                      min_samples_split=2, min_weight_fraction_leaf=0.0,\n",
              "                      n_estimators=100, n_jobs=None, oob_score=False,\n",
              "                      random_state=None, verbose=0, warm_start=False)"
            ]
          },
          "metadata": {
            "tags": []
          },
          "execution_count": 40
        }
      ]
    },
    {
      "cell_type": "code",
      "metadata": {
        "colab": {
          "base_uri": "https://localhost:8080/"
        },
        "id": "P_oqINXDfWEq",
        "outputId": "2de0bec2-0dce-401c-b895-754e7a14bdf5"
      },
      "source": [
        "from sklearn.metrics import mean_squared_error\r\n",
        "Dec_reg_pred=regr.predict(X_train)\r\n",
        "Dec_reg_mse = mean_squared_error(y_train,Dec_reg_pred)\r\n",
        "Dec_reg_mse"
      ],
      "execution_count": 41,
      "outputs": [
        {
          "output_type": "execute_result",
          "data": {
            "text/plain": [
              "646420448.9834"
            ]
          },
          "metadata": {
            "tags": []
          },
          "execution_count": 41
        }
      ]
    },
    {
      "cell_type": "code",
      "metadata": {
        "colab": {
          "base_uri": "https://localhost:8080/"
        },
        "id": "mxXYOrEsf_f3",
        "outputId": "f683ed72-2b5f-4728-ca50-a70bc76f2486"
      },
      "source": [
        "Dec_reg_pred=regr.predict(X_test)\r\n",
        "Dec_reg_mse = mean_squared_error(y_test,Dec_reg_pred)\r\n",
        "Dec_reg_mse"
      ],
      "execution_count": 42,
      "outputs": [
        {
          "output_type": "execute_result",
          "data": {
            "text/plain": [
              "4629826675.341068"
            ]
          },
          "metadata": {
            "tags": []
          },
          "execution_count": 42
        }
      ]
    }
  ]
}